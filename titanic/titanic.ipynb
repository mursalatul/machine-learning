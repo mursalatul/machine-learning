{
  "cells": [
    {
      "cell_type": "code",
      "execution_count": 3,
      "metadata": {
        "id": "k__U-HF1qPxx"
      },
      "outputs": [],
      "source": [
        "import io\n",
        "import pandas as pd\n",
        "import numpy as np\n",
        "import tensorflow as tf"
      ]
    },
    {
      "cell_type": "code",
      "execution_count": 4,
      "metadata": {
        "id": "almukmBcqo6k"
      },
      "outputs": [],
      "source": [
        "train_df = pd.read_csv('train.csv')\n",
        "test_df = pd.read_csv('test.csv')"
      ]
    },
    {
      "cell_type": "code",
      "execution_count": 5,
      "metadata": {
        "id": "cgojV3iXrL7N"
      },
      "outputs": [],
      "source": [
        "train_df_survived_col = train_df.pop('Survived')\n",
        "train_df_cabin_col = train_df.pop('Cabin')\n",
        "test_df_cabin_col = test_df.pop('Cabin')\n",
        "\n",
        "def fixData(target, cols):\n",
        "  for col in cols:\n",
        "    try:\n",
        "      target[col].fillna(target[col].mean(), inplace=True)\n",
        "    except:\n",
        "      target[col].fillna(target[col].mode()[0], inplace=True)\n"
      ]
    },
    {
      "cell_type": "code",
      "execution_count": null,
      "metadata": {
        "colab": {
          "base_uri": "https://localhost:8080/"
        },
        "id": "7jk4L5J6rZqR",
        "outputId": "ac4a64f9-c2f8-4a4c-a5ca-d20f3f056282"
      },
      "outputs": [],
      "source": [
        "catagorical_columns = ['Pclass','Sex','SibSp','Parch', 'Embarked']\n",
        "numeric_columns = ['Age', 'Fare']\n",
        "feature_columns = []\n",
        "\n",
        "# fixing datas\n",
        "fixData(train_df, catagorical_columns)\n",
        "fixData(train_df, numeric_columns)\n",
        "fixData(test_df, catagorical_columns)\n",
        "fixData(test_df, numeric_columns)\n",
        "\n",
        "for feature_name in catagorical_columns:\n",
        "  vocabulary = train_df[feature_name].unique()\n",
        "  feature_columns.append(tf.feature_column.categorical_column_with_vocabulary_list(feature_name, vocabulary))\n",
        "\n",
        "for feature_name in numeric_columns:\n",
        "  feature_columns.append(tf.feature_column.numeric_column(feature_name, dtype=tf.float32))"
      ]
    },
    {
      "cell_type": "code",
      "execution_count": 7,
      "metadata": {
        "id": "381g54FrtJIs"
      },
      "outputs": [],
      "source": [
        "def input_in(data, lable, epoch=10, shuffle=True, batch_size=32):\n",
        "  def inp():\n",
        "    ds = tf.data.Dataset.from_tensor_slices((dict(data), lable))\n",
        "    if shuffle:\n",
        "      ds = ds.shuffle(1000)\n",
        "    ds = ds.batch(batch_size).repeat(epoch)\n",
        "    return ds\n",
        "  return inp\n",
        "\n",
        "train_data_fn = input_in(train_df, train_df_survived_col)\n",
        "\n",
        "def input_in_no_lable(data, batch_size=32):\n",
        "  def inp():\n",
        "    ds = tf.data.Dataset.from_tensor_slices((dict(data)))\n",
        "    ds = ds.batch(batch_size).repeat(1)\n",
        "    return ds\n",
        "  return inp\n",
        "\n",
        "test_data_fn = input_in_no_lable(test_df)"
      ]
    },
    {
      "cell_type": "code",
      "execution_count": null,
      "metadata": {
        "colab": {
          "base_uri": "https://localhost:8080/"
        },
        "id": "rCI3os1tzeoa",
        "outputId": "09c64ecc-fae3-43d1-dc26-0705e82c98f0"
      },
      "outputs": [],
      "source": [
        "linear_est = tf.estimator.LinearClassifier(feature_columns)\n",
        "linear_est.train(train_data_fn)\n",
        "result = linear_est.predict(test_data_fn)"
      ]
    },
    {
      "cell_type": "code",
      "execution_count": null,
      "metadata": {
        "colab": {
          "base_uri": "https://localhost:8080/"
        },
        "id": "fR_qL6LR2pLp",
        "outputId": "cc94dfd2-b60f-4d98-fc22-8a9e8b103e70"
      },
      "outputs": [],
      "source": [
        "l = list(result)\n"
      ]
    },
    {
      "cell_type": "code",
      "execution_count": 10,
      "metadata": {
        "id": "eEfObn7k4UAc"
      },
      "outputs": [],
      "source": [
        "results = []\n",
        "for id in range(test_df.shape[0]):\n",
        "  pid = test_df.loc[id]['PassengerId']\n",
        "  proba = l[id][\"probabilities\"]\n",
        "  survive = 0 if proba[0] > proba[1] else 1\n",
        "  results.append({'PassengerId': pid, \"Survived\": survive})\n",
        "\n",
        "results_df = pd.DataFrame(results)\n",
        "\n",
        "results_df.to_csv('submission.csv', index=False)"
      ]
    }
  ],
  "metadata": {
    "colab": {
      "provenance": []
    },
    "kernelspec": {
      "display_name": "Python 3",
      "name": "python3"
    },
    "language_info": {
      "name": "python"
    }
  },
  "nbformat": 4,
  "nbformat_minor": 0
}
