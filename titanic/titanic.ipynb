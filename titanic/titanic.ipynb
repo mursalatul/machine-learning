{
  "nbformat": 4,
  "nbformat_minor": 0,
  "metadata": {
    "colab": {
      "provenance": []
    },
    "kernelspec": {
      "name": "python3",
      "display_name": "Python 3"
    },
    "language_info": {
      "name": "python"
    }
  },
  "cells": [
    {
      "cell_type": "code",
      "source": [
        "import io\n",
        "import pandas as pd\n",
        "import numpy as np\n",
        "import tensorflow as tf"
      ],
      "metadata": {
        "id": "k__U-HF1qPxx"
      },
      "execution_count": 100,
      "outputs": []
    },
    {
      "cell_type": "code",
      "source": [
        "train_df = pd.read_csv(io.BytesIO(uploaded['train.csv']))\n",
        "test_df = pd.read_csv(io.BytesIO(uploaded['test.csv']))"
      ],
      "metadata": {
        "id": "almukmBcqo6k"
      },
      "execution_count": 101,
      "outputs": []
    },
    {
      "cell_type": "code",
      "source": [
        "train_df_survived_col = train_df.pop('Survived')\n",
        "train_df_cabin_col = train_df.pop('Cabin')\n",
        "test_df_cabin_col = test_df.pop('Cabin')\n",
        "\n",
        "def fixData(target, cols):\n",
        "  for col in cols:\n",
        "    try:\n",
        "      target[col].fillna(target[col].mean(), inplace=True)\n",
        "    except:\n",
        "      target[col].fillna(target[col].mode()[0], inplace=True)\n"
      ],
      "metadata": {
        "id": "cgojV3iXrL7N"
      },
      "execution_count": 102,
      "outputs": []
    },
    {
      "cell_type": "code",
      "source": [
        "catagorical_columns = ['Pclass','Sex','SibSp','Parch', 'Embarked']\n",
        "numeric_columns = ['Age', 'Fare']\n",
        "feature_columns = []\n",
        "\n",
        "# fixing datas\n",
        "fixData(train_df, catagorical_columns)\n",
        "fixData(train_df, numeric_columns)\n",
        "fixData(test_df, catagorical_columns)\n",
        "fixData(test_df, numeric_columns)\n",
        "\n",
        "for feature_name in catagorical_columns:\n",
        "  vocabulary = train_df[feature_name].unique()\n",
        "  feature_columns.append(tf.feature_column.categorical_column_with_vocabulary_list(feature_name, vocabulary))\n",
        "\n",
        "for feature_name in numeric_columns:\n",
        "  feature_columns.append(tf.feature_column.numeric_column(feature_name, dtype=tf.float32))"
      ],
      "metadata": {
        "id": "7jk4L5J6rZqR"
      },
      "execution_count": 103,
      "outputs": []
    },
    {
      "cell_type": "code",
      "source": [
        "def input_in(data, lable, epoch=10, shuffle=True, batch_size=32):\n",
        "  def inp():\n",
        "    ds = tf.data.Dataset.from_tensor_slices((dict(data), lable))\n",
        "    if shuffle:\n",
        "      ds = ds.shuffle(1000)\n",
        "    ds = ds.batch(batch_size).repeat(epoch)\n",
        "    return ds\n",
        "  return inp\n",
        "\n",
        "train_data_fn = input_in(train_df, train_df_survived_col)\n",
        "\n",
        "def input_in_no_lable(data, batch_size=32):\n",
        "  def inp():\n",
        "    ds = tf.data.Dataset.from_tensor_slices((dict(data)))\n",
        "    ds = ds.batch(batch_size).repeat(1)\n",
        "    return ds\n",
        "  return inp\n",
        "\n",
        "test_data_fn = input_in_no_lable(test_df)"
      ],
      "metadata": {
        "id": "381g54FrtJIs"
      },
      "execution_count": 104,
      "outputs": []
    },
    {
      "cell_type": "code",
      "source": [
        "linear_est = tf.estimator.LinearClassifier(feature_columns)\n",
        "linear_est.train(train_data_fn)\n",
        "result = linear_est.predict(test_data_fn)"
      ],
      "metadata": {
        "colab": {
          "base_uri": "https://localhost:8080/"
        },
        "id": "rCI3os1tzeoa",
        "outputId": "83da2d81-fe1d-49dd-b65e-5c6dc5a078ed"
      },
      "execution_count": 113,
      "outputs": [
        {
          "output_type": "stream",
          "name": "stderr",
          "text": [
            "WARNING:tensorflow:Using temporary folder as model directory: /tmp/tmpf5r6zyng\n"
          ]
        }
      ]
    },
    {
      "cell_type": "code",
      "source": [
        "l = list(result)\n"
      ],
      "metadata": {
        "id": "fR_qL6LR2pLp"
      },
      "execution_count": 114,
      "outputs": []
    },
    {
      "cell_type": "code",
      "source": [
        "# place = 0\n",
        "# print(test_df.loc[place]['PassengerId'])\n",
        "# x = round(l[place][\"probabilities\"][1] * 100,2)\n",
        "# print(x)\n",
        "\n",
        "results = []\n",
        "for id in range(test_df.shape[0]):\n",
        "  pid = test_df.loc[id]['PassengerId']\n",
        "  proba = l[id][\"probabilities\"]\n",
        "  survive = 0 if proba[0] > proba[1] else 1\n",
        "  results.append({'PassengerId': pid, \"Survived\": survive})\n",
        "\n",
        "results_df = pd.DataFrame(results)\n",
        "\n",
        "results_df.to_csv('submission.csv', index=False)\n",
        "\n",
        "# test_df.head()\n",
        "# test_df.shape"
      ],
      "metadata": {
        "id": "eEfObn7k4UAc"
      },
      "execution_count": 131,
      "outputs": []
    }
  ]
}