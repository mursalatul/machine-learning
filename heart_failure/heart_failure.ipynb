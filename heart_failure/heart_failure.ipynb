{
  "nbformat": 4,
  "nbformat_minor": 0,
  "metadata": {
    "colab": {
      "provenance": []
    },
    "kernelspec": {
      "name": "python3",
      "display_name": "Python 3"
    },
    "language_info": {
      "name": "python"
    }
  },
  "cells": [
    {
      "cell_type": "code",
      "execution_count": 15,
      "metadata": {
        "id": "Zvm3hMq8uBiE"
      },
      "outputs": [],
      "source": [
        "import tensorflow as tf\n",
        "import pandas as pd"
      ]
    },
    {
      "cell_type": "code",
      "source": [
        "heart_df = pd.read_csv('heart_failure_clinical_records_dataset.csv')\n",
        "heart_df_death_event = heart_df.pop('DEATH_EVENT')"
      ],
      "metadata": {
        "id": "kIbIoFVpxV6E"
      },
      "execution_count": 16,
      "outputs": []
    },
    {
      "cell_type": "code",
      "source": [
        "catagorical_list = ['anaemia', 'diabetes', 'high_blood_pressure', 'sex', 'smoking', 'time']\n",
        "numeric_list = ['age', 'creatinine_phosphokinase', 'ejection_fraction', 'platelets', 'serum_creatinine', 'serum_sodium']\n",
        "feature_list = []\n",
        "for feature_name in catagorical_list:\n",
        "  vocabulary = heart_df[feature_name].unique()\n",
        "  feature_list.append(tf.feature_column.categorical_column_with_vocabulary_list(feature_name, vocabulary))\n",
        "\n",
        "for feature_name in numeric_list:\n",
        "  feature_list.append(tf.feature_column.numeric_column(feature_name, dtype=tf.float32))\n"
      ],
      "metadata": {
        "id": "KcIsewJyxrRQ"
      },
      "execution_count": 17,
      "outputs": []
    },
    {
      "cell_type": "code",
      "source": [
        "def train_input_fn(data, label, epoch=20, batch_size=32, shuffle=True):\n",
        "  def inp():\n",
        "    ds = tf.data.Dataset.from_tensor_slices((dict(data), label))\n",
        "    if shuffle:\n",
        "      ds = ds.shuffle(1000)\n",
        "    ds = ds.batch(batch_size).repeat(epoch)\n",
        "    return ds\n",
        "  return inp\n",
        "\n",
        "train_data_input_fn = train_input_fn(heart_df, heart_df_death_event)"
      ],
      "metadata": {
        "id": "CiZfuETIz39m"
      },
      "execution_count": 20,
      "outputs": []
    },
    {
      "cell_type": "code",
      "source": [
        "linear_est = tf.estimator.LinearClassifier(feature_list)\n",
        "linear_est.train(train_data_input_fn)\n"
      ],
      "metadata": {
        "id": "gs7ET6hO0vKr"
      },
      "execution_count": null,
      "outputs": []
    }
  ]
}